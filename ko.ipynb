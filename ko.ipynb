{
 "cells": [
  {
   "cell_type": "code",
   "execution_count": null,
   "metadata": {},
   "outputs": [
    {
     "name": "stderr",
     "output_type": "stream",
     "text": [
      "[WARNING] ME(9066:255086063878176,MainProcess):2025-08-05-21:39:09.619.758 [mindspore/run_check/_check_version.py:324] MindSpore version 2.5.0 and Ascend AI software package (Ascend Data Center Solution)version 8.2 does not match, the version of software package expect one of ['7.5', '7.6']. Please refer to the match info on: https://www.mindspore.cn/install\n",
      "[WARNING] ME(9066:255086063878176,MainProcess):2025-08-05-21:39:17.142.190 [mindspore/run_check/_check_version.py:342] MindSpore version 2.5.0 and \"te\" wheel package version 8.2 does not match. For details, refer to the installation guidelines: https://www.mindspore.cn/install\n",
      "[WARNING] ME(9066:255086063878176,MainProcess):2025-08-05-21:39:17.151.530 [mindspore/run_check/_check_version.py:349] MindSpore version 2.5.0 and \"hccl\" wheel package version 8.2 does not match. For details, refer to the installation guidelines: https://www.mindspore.cn/install\n",
      "[WARNING] ME(9066:255086063878176,MainProcess):2025-08-05-21:39:17.157.769 [mindspore/run_check/_check_version.py:363] Please pay attention to the above warning, countdown: 3\n",
      "[WARNING] ME(9066:255086063878176,MainProcess):2025-08-05-21:39:18.163.902 [mindspore/run_check/_check_version.py:363] Please pay attention to the above warning, countdown: 2\n",
      "[WARNING] ME(9066:255086063878176,MainProcess):2025-08-05-21:39:19.169.275 [mindspore/run_check/_check_version.py:363] Please pay attention to the above warning, countdown: 1\n",
      "[WARNING] ME(9066:255086063878176,MainProcess):2025-08-05-21:39:27.916.336 [mindspore/run_check/_check_version.py:324] MindSpore version 2.5.0 and Ascend AI software package (Ascend Data Center Solution)version 8.2 does not match, the version of software package expect one of ['7.5', '7.6']. Please refer to the match info on: https://www.mindspore.cn/install\n",
      "[WARNING] ME(9066:255086063878176,MainProcess):2025-08-05-21:39:27.927.513 [mindspore/run_check/_check_version.py:342] MindSpore version 2.5.0 and \"te\" wheel package version 8.2 does not match. For details, refer to the installation guidelines: https://www.mindspore.cn/install\n",
      "[WARNING] ME(9066:255086063878176,MainProcess):2025-08-05-21:39:27.932.479 [mindspore/run_check/_check_version.py:349] MindSpore version 2.5.0 and \"hccl\" wheel package version 8.2 does not match. For details, refer to the installation guidelines: https://www.mindspore.cn/install\n",
      "[WARNING] ME(9066:255086063878176,MainProcess):2025-08-05-21:39:27.934.960 [mindspore/run_check/_check_version.py:363] Please pay attention to the above warning, countdown: 3\n",
      "[WARNING] ME(9066:255086063878176,MainProcess):2025-08-05-21:39:28.941.740 [mindspore/run_check/_check_version.py:363] Please pay attention to the above warning, countdown: 2\n",
      "[WARNING] ME(9066:255086063878176,MainProcess):2025-08-05-21:39:29.947.698 [mindspore/run_check/_check_version.py:363] Please pay attention to the above warning, countdown: 1\n",
      "[WARNING] ME(9066:255086063878176,MainProcess):2025-08-05-21:39:30.950.617 [mindspore/context.py:1335] For 'context.set_context', the parameter 'device_target' will be deprecated and removed in a future version. Please use the api mindspore.set_device() instead.\n",
      "[WARNING] ME(9066:255086063878176,MainProcess):2025-08-05-21:39:30.956.466 [mindspore/run_check/_check_version.py:324] MindSpore version 2.5.0 and Ascend AI software package (Ascend Data Center Solution)version 8.2 does not match, the version of software package expect one of ['7.5', '7.6']. Please refer to the match info on: https://www.mindspore.cn/install\n",
      "[WARNING] ME(9066:255086063878176,MainProcess):2025-08-05-21:39:30.959.674 [mindspore/run_check/_check_version.py:342] MindSpore version 2.5.0 and \"te\" wheel package version 8.2 does not match. For details, refer to the installation guidelines: https://www.mindspore.cn/install\n",
      "[WARNING] ME(9066:255086063878176,MainProcess):2025-08-05-21:39:30.963.885 [mindspore/run_check/_check_version.py:349] MindSpore version 2.5.0 and \"hccl\" wheel package version 8.2 does not match. For details, refer to the installation guidelines: https://www.mindspore.cn/install\n",
      "[WARNING] ME(9066:255086063878176,MainProcess):2025-08-05-21:39:30.974.094 [mindspore/run_check/_check_version.py:363] Please pay attention to the above warning, countdown: 3\n",
      "[WARNING] ME(9066:255086063878176,MainProcess):2025-08-05-21:39:31.984.721 [mindspore/run_check/_check_version.py:363] Please pay attention to the above warning, countdown: 2\n",
      "[WARNING] ME(9066:255086063878176,MainProcess):2025-08-05-21:39:32.989.161 [mindspore/run_check/_check_version.py:363] Please pay attention to the above warning, countdown: 1\n"
     ]
    },
    {
     "name": "stdout",
     "output_type": "stream",
     "text": [
      "Ascend\n"
     ]
    }
   ],
   "source": [
    "import warnings\n",
    "warnings.filterwarnings(\"ignore\")\n",
    "\n",
    "import mindspore\n",
    "# mindspore.set_context(device_target='Ascend')\n",
    "# mindspore.set_context(\n",
    "#     device_target='Ascend'\n",
    "#     # enable_graph_kernel=False      # ← 关键：关闭 GraphKernel\n",
    "#     # ascend_config=dict(enable_op_layout=False)  # ← 关键：禁止自动改 Layout\n",
    "# )\n",
    "from mindspore import context\n",
    "context.set_context(enable_debug_runtime=True)  # 启用调试运行时\n",
    "context.set_context(mode=context.GRAPH_MODE)    # 强制使用图模式\n",
    "context.set_context(max_call_depth=2000)         # 增加调用深度\n",
    "print(mindspore.get_context('device_target'))"
   ]
  },
  {
   "cell_type": "code",
   "execution_count": null,
   "metadata": {},
   "outputs": [],
   "source": []
  },
  {
   "cell_type": "code",
   "execution_count": 2,
   "metadata": {},
   "outputs": [
    {
     "name": "stderr",
     "output_type": "stream",
     "text": [
      "[WARNING] ME(9066:255086063878176,MainProcess):2025-08-05-21:39:34.179.998 [mindspore/run_check/_check_version.py:324] MindSpore version 2.5.0 and Ascend AI software package (Ascend Data Center Solution)version 8.2 does not match, the version of software package expect one of ['7.5', '7.6']. Please refer to the match info on: https://www.mindspore.cn/install\n",
      "[WARNING] ME(9066:255086063878176,MainProcess):2025-08-05-21:39:34.194.187 [mindspore/run_check/_check_version.py:342] MindSpore version 2.5.0 and \"te\" wheel package version 8.2 does not match. For details, refer to the installation guidelines: https://www.mindspore.cn/install\n",
      "[WARNING] ME(9066:255086063878176,MainProcess):2025-08-05-21:39:34.199.758 [mindspore/run_check/_check_version.py:349] MindSpore version 2.5.0 and \"hccl\" wheel package version 8.2 does not match. For details, refer to the installation guidelines: https://www.mindspore.cn/install\n",
      "[WARNING] ME(9066:255086063878176,MainProcess):2025-08-05-21:39:34.203.664 [mindspore/run_check/_check_version.py:363] Please pay attention to the above warning, countdown: 3\n",
      "[WARNING] ME(9066:255086063878176,MainProcess):2025-08-05-21:39:35.206.601 [mindspore/run_check/_check_version.py:363] Please pay attention to the above warning, countdown: 2\n",
      "[WARNING] ME(9066:255086063878176,MainProcess):2025-08-05-21:39:36.217.285 [mindspore/run_check/_check_version.py:363] Please pay attention to the above warning, countdown: 1\n",
      "[WARNING] ME(9066:255086063878176,MainProcess):2025-08-05-21:39:37.220.322 [mindspore/context.py:1335] For 'context.set_context', the parameter 'device_target' will be deprecated and removed in a future version. Please use the api mindspore.set_device() instead.\n",
      "[WARNING] ME(9066:255086063878176,MainProcess):2025-08-05-21:39:37.223.254 [mindspore/run_check/_check_version.py:324] MindSpore version 2.5.0 and Ascend AI software package (Ascend Data Center Solution)version 8.2 does not match, the version of software package expect one of ['7.5', '7.6']. Please refer to the match info on: https://www.mindspore.cn/install\n",
      "[WARNING] ME(9066:255086063878176,MainProcess):2025-08-05-21:39:37.235.669 [mindspore/run_check/_check_version.py:342] MindSpore version 2.5.0 and \"te\" wheel package version 8.2 does not match. For details, refer to the installation guidelines: https://www.mindspore.cn/install\n",
      "[WARNING] ME(9066:255086063878176,MainProcess):2025-08-05-21:39:37.241.443 [mindspore/run_check/_check_version.py:349] MindSpore version 2.5.0 and \"hccl\" wheel package version 8.2 does not match. For details, refer to the installation guidelines: https://www.mindspore.cn/install\n",
      "[WARNING] ME(9066:255086063878176,MainProcess):2025-08-05-21:39:37.243.358 [mindspore/run_check/_check_version.py:363] Please pay attention to the above warning, countdown: 3\n",
      "[WARNING] ME(9066:255086063878176,MainProcess):2025-08-05-21:39:38.247.831 [mindspore/run_check/_check_version.py:363] Please pay attention to the above warning, countdown: 2\n",
      "[WARNING] ME(9066:255086063878176,MainProcess):2025-08-05-21:39:39.250.464 [mindspore/run_check/_check_version.py:363] Please pay attention to the above warning, countdown: 1\n"
     ]
    },
    {
     "name": "stdout",
     "output_type": "stream",
     "text": [
      "Ascend\n"
     ]
    }
   ],
   "source": [
    "\n",
    "import mindspore\n",
    "# mindspore.set_context(device_target='Ascend')\n",
    "mindspore.set_context(\n",
    "    device_target='Ascend'\n",
    "    # enable_graph_kernel=False      # ← 关键：关闭 GraphKernel\n",
    "    # ascend_config=dict(enable_op_layout=False)  # ← 关键：禁止自动改 Layout\n",
    ")\n",
    "print(mindspore.get_context('device_target'))"
   ]
  },
  {
   "cell_type": "code",
   "execution_count": 3,
   "metadata": {},
   "outputs": [
    {
     "name": "stderr",
     "output_type": "stream",
     "text": [
      "[WARNING] ME(9066:255086063878176,MainProcess):2025-08-05-21:39:40.396.258 [mindspore/context.py:1335] For 'context.set_context', the parameter 'ascend_config' will be deprecated and removed in a future version. Please use the api mindspore.device_context.ascend.op_precision.precision_mode(),\n",
      "                                                       mindspore.device_context.ascend.op_precision.op_precision_mode(),\n",
      "                                                       mindspore.device_context.ascend.op_precision.matmul_allow_hf32(),\n",
      "                                                       mindspore.device_context.ascend.op_precision.conv_allow_hf32(),\n",
      "                                                       mindspore.device_context.ascend.op_tuning.op_compile() instead.\n"
     ]
    },
    {
     "name": "stderr",
     "output_type": "stream",
     "text": [
      "Building prefix dict from the default dictionary ...\n",
      "Loading model from cache /tmp/jieba.cache\n",
      "Loading model cost 2.328 seconds.\n",
      "Prefix dict has been built successfully.\n",
      "The argument `trust_remote_code` is to be used with Auto classes. It has no effect here and is ignored.\n",
      "Unrecognized keys in `rope_scaling` for 'rope_type'='default': {'mrope_section', 'type'}\n",
      "Qwen2VLForConditionalGeneration has generative capabilities, as `prepare_inputs_for_generation` is explicitly overwritten. However, it doesn't directly inherit from `GenerationMixin`.`PreTrainedModel` will NOT inherit from `GenerationMixin`, and this model will lose the ability to call `generate` and other related functions.\n",
      "  - If you are the owner of the model architecture code, please modify your model class such that it inherits from `GenerationMixin` (after `PreTrainedModel`, otherwise you'll get an exception).\n",
      "  - If you are not the owner of the model architecture class, please contact the model code owner to update it.\n",
      "`Qwen2VLRotaryEmbedding` can now be fully parameterized by passing the model config through the `config` argument. All other arguments will be removed\n"
     ]
    },
    {
     "data": {
      "application/vnd.jupyter.widget-view+json": {
       "model_id": "9c5a2ca1f11e4c229f6d5b8bae52c0b3",
       "version_major": 2,
       "version_minor": 0
      },
      "text/plain": [
       "Loading checkpoint shards:   0%|          | 0/2 [00:00<?, ?it/s]"
      ]
     },
     "metadata": {},
     "output_type": "display_data"
    },
    {
     "name": "stderr",
     "output_type": "stream",
     "text": [
      "MindSpore do not support bfloat16 dtype, we will automaticlly convert to float16\n"
     ]
    }
   ],
   "source": [
    "from mindnlp.transformers import Qwen2VLForConditionalGeneration, Qwen2VLConfig, AutoProcessor\n",
    "from qwen_vl_utils import process_vision_info\n",
    "\n",
    "\n",
    "# path = \"/home/HwHiAiUser/.cache/modelscope/hub/models/Qwen/Qwen2-VL-2B-Instruct\"\n",
    "path = \"/home/HwHiAiUser/.cache/modelscope/hub/models/Qwen/Qwen2-VL-2B-Instruct\"\n",
    "path_weight = \"/home/HwHiAiUser/.cache/modelscope/hub/models/Qwen/Qwen2-VL-2B-Instruct/test.ckpt\"\n",
    "# default: Load the model on the available device(s)\n",
    "# config = Qwen2VLConfig.from_pretrained(path, ms_dtype=mindspore.float16)\n",
    "# model = Qwen2VLForConditionalGeneration(config)\n",
    "model = Qwen2VLForConditionalGeneration.from_pretrained(\n",
    "    path, ms_dtype=mindspore.float16,\n",
    "    trust_remote_code = True\n",
    ")\n",
    "# We recommend enabling flash_attention_2 for better acceleration and memory saving, especially in multi-image and video scenarios.\n",
    "# model = Qwen2VLForConditionalGeneration.from_pretrained(\n",
    "#     \"Qwen/Qwen2-VL-2B-Instruct\",\n",
    "#     torch_dtype=torch.bfloat16,\n",
    "#     attn_implementation=\"flash_attention_2\",\n",
    "#     device_map=\"auto\",\n",
    "# )"
   ]
  },
  {
   "cell_type": "code",
   "execution_count": 4,
   "metadata": {},
   "outputs": [],
   "source": [
    "# param_dict = mindspore.load_checkpoint(path_weight)\n",
    "# mindspore.load_param_into_net(model, param_dict)\n"
   ]
  },
  {
   "cell_type": "code",
   "execution_count": 5,
   "metadata": {},
   "outputs": [],
   "source": [
    "# default processer\n",
    "# processor = AutoProcessor.from_pretrained(path, ms_dtype=mindspore.float16)\n",
    "\n",
    "# The default range for the number of visual tokens per image in the model is 4-16384. You can set min_pixels and max_pixels according to your needs, such as a token count range of 256-1280, to balance speed and memory usage.\n",
    "min_pixels = 256*28*28\n",
    "max_pixels = 512*28*28\n",
    "processor = AutoProcessor.from_pretrained(path, min_pixels=min_pixels, max_pixels=max_pixels, ms_dtype=mindspore.float16)\n"
   ]
  },
  {
   "cell_type": "code",
   "execution_count": 6,
   "metadata": {},
   "outputs": [
    {
     "name": "stdout",
     "output_type": "stream",
     "text": [
      "<class 'str'>\n"
     ]
    },
    {
     "data": {
      "text/plain": [
       "'<|im_start|>system\\nYou are a helpful assistant.<|im_end|>\\n<|im_start|>user\\n<|vision_start|><|image_pad|><|vision_end|>Describe this image.<|im_end|>\\n<|im_start|>assistant\\n'"
      ]
     },
     "execution_count": 6,
     "metadata": {},
     "output_type": "execute_result"
    }
   ],
   "source": [
    "messages = [\n",
    "    {\n",
    "        \"role\": \"user\",\n",
    "        \"content\": [\n",
    "            {\n",
    "                \"type\": \"image\",\n",
    "                \"image\": \"https://qianwen-res.oss-cn-beijing.aliyuncs.com/Qwen-VL/assets/demo.jpeg\",\n",
    "            },\n",
    "            {\"type\": \"text\", \"text\": \"Describe this image.\"},\n",
    "        ],\n",
    "    }\n",
    "]\n",
    "\n",
    "# Preparation for inference\n",
    "text = processor.apply_chat_template(\n",
    "    messages, tokenize=False, add_generation_prompt=True\n",
    ")\n",
    "print(type(text))\n",
    "text\n",
    "\n",
    "# inputs = inputs.to(\"cuda\")"
   ]
  },
  {
   "cell_type": "code",
   "execution_count": null,
   "metadata": {},
   "outputs": [],
   "source": []
  },
  {
   "cell_type": "code",
   "execution_count": 7,
   "metadata": {},
   "outputs": [
    {
     "data": {
      "text/plain": [
       "[<PIL.Image.Image image mode=RGB size=2044x1372>]"
      ]
     },
     "execution_count": 7,
     "metadata": {},
     "output_type": "execute_result"
    }
   ],
   "source": [
    "image_inputs, video_inputs = process_vision_info(messages)\n",
    "image_inputs"
   ]
  },
  {
   "cell_type": "code",
   "execution_count": null,
   "metadata": {},
   "outputs": [],
   "source": []
  },
  {
   "cell_type": "code",
   "execution_count": 8,
   "metadata": {},
   "outputs": [
    {
     "data": {
      "text/plain": [
       "{'input_ids': Tensor(shape=[1, 511], dtype=Int64, value=\n",
       "[[151644,   8948,    198 ... 151644,  77091,    198]]), 'attention_mask': Tensor(shape=[1, 511], dtype=Int64, value=\n",
       "[[1, 1, 1 ... 1, 1, 1]]), 'pixel_values': Tensor(shape=[1944, 1176], dtype=Float32, value=\n",
       "[[ 8.50052655e-01,  8.79249513e-01,  9.08446372e-01 ...  1.50599408e+00,  1.50599408e+00,  1.52021420e+00],\n",
       " [ 1.05443060e+00,  1.06902909e+00,  1.08362746e+00 ...  1.60553455e+00,  1.60553455e+00,  1.61975467e+00],\n",
       " [ 1.06902909e+00,  1.08362746e+00,  1.11282432e+00 ...  1.57709444e+00,  1.59131455e+00,  1.59131455e+00],\n",
       " ...\n",
       " [-2.59427756e-01, -2.01034054e-01, -2.15632468e-01 ... -3.71054590e-01, -3.99494737e-01, -4.27934855e-01],\n",
       " [-3.61616731e-01, -3.47018301e-01, -4.20010418e-01 ... -5.82131557e-02,  9.82075632e-02,  1.83527961e-01],\n",
       " [ 3.25407572e-02, -4.04513702e-02, -1.28041923e-01 ... -3.71054590e-01, -3.85274649e-01, -4.27934855e-01]]), 'image_grid_thw': Tensor(shape=[1, 3], dtype=Int64, value=\n",
       "[[ 1, 36, 54]])}"
      ]
     },
     "execution_count": 8,
     "metadata": {},
     "output_type": "execute_result"
    }
   ],
   "source": [
    "inputs = processor(\n",
    "    text=[text],\n",
    "    images=image_inputs,\n",
    "    padding=True,\n",
    "    return_tensors=\"ms\",\n",
    ")\n",
    "inputs"
   ]
  },
  {
   "cell_type": "code",
   "execution_count": 9,
   "metadata": {},
   "outputs": [
    {
     "name": "stdout",
     "output_type": "stream",
     "text": [
      "input_ids\n",
      "attention_mask\n"
     ]
    },
    {
     "data": {
      "text/plain": [
       "{'input_ids': Tensor(shape=[1, 511], dtype=Int32, value=\n",
       "[[151644,   8948,    198 ... 151644,  77091,    198]]), 'attention_mask': Tensor(shape=[1, 511], dtype=Int32, value=\n",
       "[[1, 1, 1 ... 1, 1, 1]]), 'pixel_values': Tensor(shape=[1944, 1176], dtype=Float32, value=\n",
       "[[ 8.50052655e-01,  8.79249513e-01,  9.08446372e-01 ...  1.50599408e+00,  1.50599408e+00,  1.52021420e+00],\n",
       " [ 1.05443060e+00,  1.06902909e+00,  1.08362746e+00 ...  1.60553455e+00,  1.60553455e+00,  1.61975467e+00],\n",
       " [ 1.06902909e+00,  1.08362746e+00,  1.11282432e+00 ...  1.57709444e+00,  1.59131455e+00,  1.59131455e+00],\n",
       " ...\n",
       " [-2.59427756e-01, -2.01034054e-01, -2.15632468e-01 ... -3.71054590e-01, -3.99494737e-01, -4.27934855e-01],\n",
       " [-3.61616731e-01, -3.47018301e-01, -4.20010418e-01 ... -5.82131557e-02,  9.82075632e-02,  1.83527961e-01],\n",
       " [ 3.25407572e-02, -4.04513702e-02, -1.28041923e-01 ... -3.71054590e-01, -3.85274649e-01, -4.27934855e-01]]), 'image_grid_thw': Tensor(shape=[1, 3], dtype=Int64, value=\n",
       "[[ 1, 36, 54]])}"
      ]
     },
     "execution_count": 9,
     "metadata": {},
     "output_type": "execute_result"
    }
   ],
   "source": [
    "for k in ['input_ids', 'attention_mask', 'position_ids']:\n",
    "    if k in inputs and inputs[k].dtype == mindspore.int64:\n",
    "        print(k)\n",
    "        inputs[k] = inputs[k].astype(mindspore.int32)\n",
    "inputs"
   ]
  },
  {
   "cell_type": "code",
   "execution_count": 10,
   "metadata": {},
   "outputs": [
    {
     "name": "stderr",
     "output_type": "stream",
     "text": [
      "[WARNING] ME(9066:255086063878176,MainProcess):2025-08-05-21:41:17.955.339 [mindspore/run_check/_check_version.py:324] MindSpore version 2.5.0 and Ascend AI software package (Ascend Data Center Solution)version 8.2 does not match, the version of software package expect one of ['7.5', '7.6']. Please refer to the match info on: https://www.mindspore.cn/install\n",
      "[WARNING] ME(9066:255086063878176,MainProcess):2025-08-05-21:41:17.961.320 [mindspore/run_check/_check_version.py:342] MindSpore version 2.5.0 and \"te\" wheel package version 8.2 does not match. For details, refer to the installation guidelines: https://www.mindspore.cn/install\n",
      "[WARNING] ME(9066:255086063878176,MainProcess):2025-08-05-21:41:17.966.733 [mindspore/run_check/_check_version.py:349] MindSpore version 2.5.0 and \"hccl\" wheel package version 8.2 does not match. For details, refer to the installation guidelines: https://www.mindspore.cn/install\n",
      "[WARNING] ME(9066:255086063878176,MainProcess):2025-08-05-21:41:17.971.825 [mindspore/run_check/_check_version.py:363] Please pay attention to the above warning, countdown: 3\n",
      "[WARNING] ME(9066:255086063878176,MainProcess):2025-08-05-21:41:18.979.766 [mindspore/run_check/_check_version.py:363] Please pay attention to the above warning, countdown: 2\n",
      "[WARNING] ME(9066:255086063878176,MainProcess):2025-08-05-21:41:19.986.494 [mindspore/run_check/_check_version.py:363] Please pay attention to the above warning, countdown: 1\n",
      "[WARNING] ME(9066:255086063878176,MainProcess):2025-08-05-21:41:20.990.719 [mindspore/context.py:1335] For 'context.set_context', the parameter 'device_target' will be deprecated and removed in a future version. Please use the api mindspore.set_device() instead.\n",
      "[WARNING] ME(9066:255086063878176,MainProcess):2025-08-05-21:41:20.993.645 [mindspore/run_check/_check_version.py:324] MindSpore version 2.5.0 and Ascend AI software package (Ascend Data Center Solution)version 8.2 does not match, the version of software package expect one of ['7.5', '7.6']. Please refer to the match info on: https://www.mindspore.cn/install\n",
      "[WARNING] ME(9066:255086063878176,MainProcess):2025-08-05-21:41:20.997.158 [mindspore/run_check/_check_version.py:342] MindSpore version 2.5.0 and \"te\" wheel package version 8.2 does not match. For details, refer to the installation guidelines: https://www.mindspore.cn/install\n",
      "[WARNING] ME(9066:255086063878176,MainProcess):2025-08-05-21:41:21.177. [mindspore/run_check/_check_version.py:349] MindSpore version 2.5.0 and \"hccl\" wheel package version 8.2 does not match. For details, refer to the installation guidelines: https://www.mindspore.cn/install\n",
      "[WARNING] ME(9066:255086063878176,MainProcess):2025-08-05-21:41:21.556.9 [mindspore/run_check/_check_version.py:363] Please pay attention to the above warning, countdown: 3\n",
      "[WARNING] ME(9066:255086063878176,MainProcess):2025-08-05-21:41:22.118.30 [mindspore/run_check/_check_version.py:363] Please pay attention to the above warning, countdown: 2\n",
      "[WARNING] ME(9066:255086063878176,MainProcess):2025-08-05-21:41:23.211.01 [mindspore/run_check/_check_version.py:363] Please pay attention to the above warning, countdown: 1\n"
     ]
    },
    {
     "name": "stdout",
     "output_type": "stream",
     "text": [
      "Ascend\n"
     ]
    }
   ],
   "source": [
    "mindspore.set_context(\n",
    "    device_target='Ascend'\n",
    "    # enable_graph_kernel=False      # ← 关键：关闭 GraphKernel\n",
    "    # ascend_config=dict(enable_op_layout=False)  # ← 关键：禁止自动改 Layout\n",
    ")\n",
    "print(mindspore.get_context('device_target'))"
   ]
  },
  {
   "cell_type": "code",
   "execution_count": 11,
   "metadata": {},
   "outputs": [
    {
     "name": "stdout",
     "output_type": "stream",
     "text": [
      "<class 'mindnlp.transformers.feature_extraction_utils.BatchFeature'>\n"
     ]
    }
   ],
   "source": [
    "print(type(inputs))"
   ]
  },
  {
   "cell_type": "code",
   "execution_count": 12,
   "metadata": {},
   "outputs": [
    {
     "name": "stdout",
     "output_type": "stream",
     "text": [
      "."
     ]
    },
    {
     "ename": "RuntimeError",
     "evalue": "aclnnTopkGetWorkspaceSize call failed, please check!\n\n----------------------------------------------------\n- Ascend Error Message:\n----------------------------------------------------\nEZ9999: Inner Error!\nEZ9999: [PID: 9066] 2025-08-05-21:42:39.488.767 Parse dynamic kernel config fail.[THREAD:9519]\n        TraceBack (most recent call last):\n       AclOpKernelInit failed opType[THREAD:9519]\n       GatherElements AiCore ADD_TO_LAUNCHER_LIST_AICORE failed.[THREAD:9519]\n\n(Please search \"CANN Common Error Analysis\" at https://www.mindspore.cn for error code description)\n\n----------------------------------------------------\n- C++ Call Stack: (For framework developers)\n----------------------------------------------------\nmindspore/ops/kernel/ascend/pyboost/auto_generate/pyboost_ascend_ops_3.cc:3392 operator()\n",
     "output_type": "error",
     "traceback": [
      "\u001b[0;31m---------------------------------------------------------------------------\u001b[0m",
      "\u001b[0;31mRuntimeError\u001b[0m                              Traceback (most recent call last)",
      "\u001b[0;32m/tmp/ipykernel_9066/1349709792.py\u001b[0m in \u001b[0;36m<cell line: 3>\u001b[0;34m()\u001b[0m\n\u001b[1;32m      1\u001b[0m \u001b[0;31m# Inference: Generation of the output\u001b[0m\u001b[0;34m\u001b[0m\u001b[0;34m\u001b[0m\u001b[0;34m\u001b[0m\u001b[0m\n\u001b[1;32m      2\u001b[0m \u001b[0;34m\u001b[0m\u001b[0m\n\u001b[0;32m----> 3\u001b[0;31m \u001b[0mgenerated_ids\u001b[0m \u001b[0;34m=\u001b[0m \u001b[0mmodel\u001b[0m\u001b[0;34m.\u001b[0m\u001b[0mgenerate\u001b[0m\u001b[0;34m(\u001b[0m\u001b[0;34m**\u001b[0m\u001b[0minputs\u001b[0m\u001b[0;34m,\u001b[0m \u001b[0mmax_new_tokens\u001b[0m\u001b[0;34m=\u001b[0m\u001b[0;36m16\u001b[0m\u001b[0;34m)\u001b[0m\u001b[0;34m\u001b[0m\u001b[0;34m\u001b[0m\u001b[0m\n\u001b[0m",
      "\u001b[0;32m~/.local/lib/python3.9/site-packages/mindnlp/core/utils/_contextlib.py\u001b[0m in \u001b[0;36mdecorate_context\u001b[0;34m(*args, **kwargs)\u001b[0m\n\u001b[1;32m    115\u001b[0m     \u001b[0;32mdef\u001b[0m \u001b[0mdecorate_context\u001b[0m\u001b[0;34m(\u001b[0m\u001b[0;34m*\u001b[0m\u001b[0margs\u001b[0m\u001b[0;34m,\u001b[0m \u001b[0;34m**\u001b[0m\u001b[0mkwargs\u001b[0m\u001b[0;34m)\u001b[0m\u001b[0;34m:\u001b[0m\u001b[0;34m\u001b[0m\u001b[0;34m\u001b[0m\u001b[0m\n\u001b[1;32m    116\u001b[0m         \u001b[0;32mwith\u001b[0m \u001b[0mctx_factory\u001b[0m\u001b[0;34m(\u001b[0m\u001b[0;34m)\u001b[0m\u001b[0;34m:\u001b[0m\u001b[0;34m\u001b[0m\u001b[0;34m\u001b[0m\u001b[0m\n\u001b[0;32m--> 117\u001b[0;31m             \u001b[0;32mreturn\u001b[0m \u001b[0mfunc\u001b[0m\u001b[0;34m(\u001b[0m\u001b[0;34m*\u001b[0m\u001b[0margs\u001b[0m\u001b[0;34m,\u001b[0m \u001b[0;34m**\u001b[0m\u001b[0mkwargs\u001b[0m\u001b[0;34m)\u001b[0m\u001b[0;34m\u001b[0m\u001b[0;34m\u001b[0m\u001b[0m\n\u001b[0m\u001b[1;32m    118\u001b[0m \u001b[0;34m\u001b[0m\u001b[0m\n\u001b[1;32m    119\u001b[0m     \u001b[0;32mreturn\u001b[0m \u001b[0mdecorate_context\u001b[0m\u001b[0;34m\u001b[0m\u001b[0;34m\u001b[0m\u001b[0m\n",
      "\u001b[0;32m~/.local/lib/python3.9/site-packages/mindnlp/transformers/generation/utils.py\u001b[0m in \u001b[0;36mgenerate\u001b[0;34m(self, inputs, generation_config, logits_processor, stopping_criteria, prefix_allowed_tokens_fn, synced_devices, assistant_model, streamer, negative_prompt_ids, negative_prompt_attention_mask, **kwargs)\u001b[0m\n\u001b[1;32m   2022\u001b[0m \u001b[0;34m\u001b[0m\u001b[0m\n\u001b[1;32m   2023\u001b[0m             \u001b[0;31m# 13. run sample (it degenerates to greedy search when `generation_config.do_sample=False`)\u001b[0m\u001b[0;34m\u001b[0m\u001b[0;34m\u001b[0m\u001b[0;34m\u001b[0m\u001b[0m\n\u001b[0;32m-> 2024\u001b[0;31m             result = self._sample(\n\u001b[0m\u001b[1;32m   2025\u001b[0m                 \u001b[0minput_ids\u001b[0m\u001b[0;34m,\u001b[0m\u001b[0;34m\u001b[0m\u001b[0;34m\u001b[0m\u001b[0m\n\u001b[1;32m   2026\u001b[0m                 \u001b[0mlogits_processor\u001b[0m\u001b[0;34m=\u001b[0m\u001b[0mprepared_logits_processor\u001b[0m\u001b[0;34m,\u001b[0m\u001b[0;34m\u001b[0m\u001b[0;34m\u001b[0m\u001b[0m\n",
      "\u001b[0;32m~/.local/lib/python3.9/site-packages/mindnlp/transformers/generation/utils.py\u001b[0m in \u001b[0;36m_sample\u001b[0;34m(self, input_ids, logits_processor, stopping_criteria, generation_config, synced_devices, streamer, logits_warper, **model_kwargs)\u001b[0m\n\u001b[1;32m   3046\u001b[0m             \u001b[0mnext_token_scores\u001b[0m \u001b[0;34m=\u001b[0m \u001b[0mlogits_processor\u001b[0m\u001b[0;34m(\u001b[0m\u001b[0minput_ids\u001b[0m\u001b[0;34m,\u001b[0m \u001b[0mnext_token_logits\u001b[0m\u001b[0;34m)\u001b[0m\u001b[0;34m\u001b[0m\u001b[0;34m\u001b[0m\u001b[0m\n\u001b[1;32m   3047\u001b[0m             \u001b[0;32mif\u001b[0m \u001b[0mdo_sample\u001b[0m\u001b[0;34m:\u001b[0m\u001b[0;34m\u001b[0m\u001b[0;34m\u001b[0m\u001b[0m\n\u001b[0;32m-> 3048\u001b[0;31m                 \u001b[0mnext_token_scores\u001b[0m \u001b[0;34m=\u001b[0m \u001b[0mlogits_warper\u001b[0m\u001b[0;34m(\u001b[0m\u001b[0minput_ids\u001b[0m\u001b[0;34m,\u001b[0m \u001b[0mnext_token_scores\u001b[0m\u001b[0;34m)\u001b[0m\u001b[0;34m\u001b[0m\u001b[0;34m\u001b[0m\u001b[0m\n\u001b[0m\u001b[1;32m   3049\u001b[0m \u001b[0;34m\u001b[0m\u001b[0m\n\u001b[1;32m   3050\u001b[0m             \u001b[0;31m# Store scores, attentions and hidden_states when required\u001b[0m\u001b[0;34m\u001b[0m\u001b[0;34m\u001b[0m\u001b[0;34m\u001b[0m\u001b[0m\n",
      "\u001b[0;32m~/.local/lib/python3.9/site-packages/mindnlp/transformers/generation/logits_process.py\u001b[0m in \u001b[0;36m__call__\u001b[0;34m(self, input_ids, scores, **kwargs)\u001b[0m\n\u001b[1;32m     83\u001b[0m                 \u001b[0mscores\u001b[0m \u001b[0;34m=\u001b[0m \u001b[0mprocessor\u001b[0m\u001b[0;34m(\u001b[0m\u001b[0minput_ids\u001b[0m\u001b[0;34m,\u001b[0m \u001b[0mscores\u001b[0m\u001b[0;34m,\u001b[0m \u001b[0;34m**\u001b[0m\u001b[0mkwargs\u001b[0m\u001b[0;34m)\u001b[0m\u001b[0;34m\u001b[0m\u001b[0;34m\u001b[0m\u001b[0m\n\u001b[1;32m     84\u001b[0m             \u001b[0;32melse\u001b[0m\u001b[0;34m:\u001b[0m\u001b[0;34m\u001b[0m\u001b[0;34m\u001b[0m\u001b[0m\n\u001b[0;32m---> 85\u001b[0;31m                 \u001b[0mscores\u001b[0m \u001b[0;34m=\u001b[0m \u001b[0mprocessor\u001b[0m\u001b[0;34m(\u001b[0m\u001b[0minput_ids\u001b[0m\u001b[0;34m,\u001b[0m \u001b[0mscores\u001b[0m\u001b[0;34m)\u001b[0m\u001b[0;34m\u001b[0m\u001b[0;34m\u001b[0m\u001b[0m\n\u001b[0m\u001b[1;32m     86\u001b[0m \u001b[0;34m\u001b[0m\u001b[0m\n\u001b[1;32m     87\u001b[0m         \u001b[0;32mreturn\u001b[0m \u001b[0mscores\u001b[0m\u001b[0;34m\u001b[0m\u001b[0;34m\u001b[0m\u001b[0m\n",
      "\u001b[0;32m~/.local/lib/python3.9/site-packages/mindnlp/transformers/generation/logits_process.py\u001b[0m in \u001b[0;36m__call__\u001b[0;34m(self, input_ids, scores)\u001b[0m\n\u001b[1;32m    470\u001b[0m \u001b[0;34m\u001b[0m\u001b[0m\n\u001b[1;32m    471\u001b[0m         \u001b[0;32mif\u001b[0m \u001b[0mON_ORANGE_PI\u001b[0m\u001b[0;34m:\u001b[0m\u001b[0;34m\u001b[0m\u001b[0;34m\u001b[0m\u001b[0m\n\u001b[0;32m--> 472\u001b[0;31m             \u001b[0;32mreturn\u001b[0m \u001b[0mself\u001b[0m\u001b[0;34m.\u001b[0m\u001b[0mtf_like_call\u001b[0m\u001b[0;34m(\u001b[0m\u001b[0minput_ids\u001b[0m\u001b[0;34m,\u001b[0m \u001b[0mscores\u001b[0m\u001b[0;34m)\u001b[0m\u001b[0;34m\u001b[0m\u001b[0;34m\u001b[0m\u001b[0m\n\u001b[0m\u001b[1;32m    473\u001b[0m \u001b[0;34m\u001b[0m\u001b[0m\n\u001b[1;32m    474\u001b[0m         \u001b[0msorted_logits\u001b[0m\u001b[0;34m,\u001b[0m \u001b[0msorted_indices\u001b[0m \u001b[0;34m=\u001b[0m \u001b[0mops\u001b[0m\u001b[0;34m.\u001b[0m\u001b[0msort\u001b[0m\u001b[0;34m(\u001b[0m\u001b[0mscores\u001b[0m\u001b[0;34m,\u001b[0m \u001b[0mdescending\u001b[0m\u001b[0;34m=\u001b[0m\u001b[0;32mFalse\u001b[0m\u001b[0;34m)\u001b[0m\u001b[0;34m\u001b[0m\u001b[0;34m\u001b[0m\u001b[0m\n",
      "\u001b[0;32m~/.local/lib/python3.9/site-packages/mindnlp/transformers/generation/logits_process.py\u001b[0m in \u001b[0;36mtf_like_call\u001b[0;34m(self, input_ids, scores)\u001b[0m\n\u001b[1;32m    494\u001b[0m \u001b[0;34m\u001b[0m\u001b[0m\n\u001b[1;32m    495\u001b[0m         \u001b[0;31m# Also include the token that is higher than top_p (the first false = shift and insert a True on the left)\u001b[0m\u001b[0;34m\u001b[0m\u001b[0;34m\u001b[0m\u001b[0;34m\u001b[0m\u001b[0m\n\u001b[0;32m--> 496\u001b[0;31m         score_mask = ops.concat((ops.ones([score_mask.shape[0], 1], dtype=mindspore.bool_),\n\u001b[0m\u001b[1;32m    497\u001b[0m                                  score_mask[:, :-1]), dim=-1)\n\u001b[1;32m    498\u001b[0m \u001b[0;34m\u001b[0m\u001b[0m\n",
      "\u001b[0;32m~/.local/lib/python3.9/site-packages/mindspore/common/_stub_tensor.py\u001b[0m in \u001b[0;36mshape\u001b[0;34m(self)\u001b[0m\n\u001b[1;32m     89\u001b[0m         \u001b[0;32mif\u001b[0m \u001b[0mself\u001b[0m\u001b[0;34m.\u001b[0m\u001b[0mstub\u001b[0m\u001b[0;34m:\u001b[0m\u001b[0;34m\u001b[0m\u001b[0;34m\u001b[0m\u001b[0m\n\u001b[1;32m     90\u001b[0m             \u001b[0;32mif\u001b[0m \u001b[0;32mnot\u001b[0m \u001b[0mhasattr\u001b[0m\u001b[0;34m(\u001b[0m\u001b[0mself\u001b[0m\u001b[0;34m,\u001b[0m \u001b[0;34m\"stub_shape\"\u001b[0m\u001b[0;34m)\u001b[0m\u001b[0;34m:\u001b[0m\u001b[0;34m\u001b[0m\u001b[0;34m\u001b[0m\u001b[0m\n\u001b[0;32m---> 91\u001b[0;31m                 \u001b[0mself\u001b[0m\u001b[0;34m.\u001b[0m\u001b[0mstub_shape\u001b[0m \u001b[0;34m=\u001b[0m \u001b[0mself\u001b[0m\u001b[0;34m.\u001b[0m\u001b[0mstub\u001b[0m\u001b[0;34m.\u001b[0m\u001b[0mget_shape\u001b[0m\u001b[0;34m(\u001b[0m\u001b[0;34m)\u001b[0m\u001b[0;34m\u001b[0m\u001b[0;34m\u001b[0m\u001b[0m\n\u001b[0m\u001b[1;32m     92\u001b[0m             \u001b[0;32mreturn\u001b[0m \u001b[0mself\u001b[0m\u001b[0;34m.\u001b[0m\u001b[0mstub_shape\u001b[0m\u001b[0;34m\u001b[0m\u001b[0;34m\u001b[0m\u001b[0m\n\u001b[1;32m     93\u001b[0m         \u001b[0;32mreturn\u001b[0m \u001b[0mself\u001b[0m\u001b[0;34m.\u001b[0m\u001b[0mtensor\u001b[0m\u001b[0;34m.\u001b[0m\u001b[0mshape\u001b[0m\u001b[0;34m\u001b[0m\u001b[0;34m\u001b[0m\u001b[0m\n",
      "\u001b[0;31mRuntimeError\u001b[0m: aclnnTopkGetWorkspaceSize call failed, please check!\n\n----------------------------------------------------\n- Ascend Error Message:\n----------------------------------------------------\nEZ9999: Inner Error!\nEZ9999: [PID: 9066] 2025-08-05-21:42:39.488.767 Parse dynamic kernel config fail.[THREAD:9519]\n        TraceBack (most recent call last):\n       AclOpKernelInit failed opType[THREAD:9519]\n       GatherElements AiCore ADD_TO_LAUNCHER_LIST_AICORE failed.[THREAD:9519]\n\n(Please search \"CANN Common Error Analysis\" at https://www.mindspore.cn for error code description)\n\n----------------------------------------------------\n- C++ Call Stack: (For framework developers)\n----------------------------------------------------\nmindspore/ops/kernel/ascend/pyboost/auto_generate/pyboost_ascend_ops_3.cc:3392 operator()\n"
     ]
    }
   ],
   "source": [
    "# Inference: Generation of the output\n",
    "\n",
    "generated_ids = model.generate(**inputs, max_new_tokens=16)\n"
   ]
  },
  {
   "cell_type": "code",
   "execution_count": null,
   "metadata": {},
   "outputs": [],
   "source": [
    "generated_ids_trimmed = [\n",
    "    out_ids[len(in_ids) :] for in_ids, out_ids in zip(inputs.input_ids, generated_ids)\n",
    "]\n",
    "output_text = processor.batch_decode(\n",
    "    generated_ids_trimmed, skip_special_tokens=True, clean_up_tokenization_spaces=False\n",
    ")\n",
    "print(output_text)"
   ]
  }
 ],
 "metadata": {
  "kernelspec": {
   "display_name": "base",
   "language": "python",
   "name": "python3"
  },
  "language_info": {
   "codemirror_mode": {
    "name": "ipython",
    "version": 3
   },
   "file_extension": ".py",
   "mimetype": "text/x-python",
   "name": "python",
   "nbconvert_exporter": "python",
   "pygments_lexer": "ipython3",
   "version": "3.9.2"
  }
 },
 "nbformat": 4,
 "nbformat_minor": 2
}
